{
 "cells": [
  {
   "cell_type": "code",
   "execution_count": 12,
   "metadata": {},
   "outputs": [],
   "source": [
    "import pandas as pd\n",
    "import numpy as np\n",
    "import random\n",
    "import math\n",
    "import datetime"
   ]
  },
  {
   "cell_type": "code",
   "execution_count": 6,
   "metadata": {
    "scrolled": true
   },
   "outputs": [],
   "source": [
    "data=pd.read_csv('./poi/poi_user_1.csv', sep=',')"
   ]
  },
  {
   "cell_type": "code",
   "execution_count": 13,
   "metadata": {},
   "outputs": [
    {
     "name": "stdout",
     "output_type": "stream",
     "text": [
      "<class 'pandas.core.frame.DataFrame'>\n",
      "RangeIndex: 79 entries, 0 to 78\n",
      "Data columns (total 5 columns):\n",
      "Unnamed: 0    79 non-null int64\n",
      "Entry_date    79 non-null object\n",
      "DeltaT        79 non-null float64\n",
      "Center        79 non-null object\n",
      "Size          79 non-null int64\n",
      "dtypes: float64(1), int64(2), object(2)\n",
      "memory usage: 3.2+ KB\n"
     ]
    }
   ],
   "source": [
    "data.drop(\"Unnamed: 0\",axis=1)\n",
    "data.info()"
   ]
  },
  {
   "cell_type": "code",
   "execution_count": 17,
   "metadata": {},
   "outputs": [
    {
     "name": "stdout",
     "output_type": "stream",
     "text": [
      "<class 'pandas.core.frame.DataFrame'>\n",
      "RangeIndex: 79 entries, 0 to 78\n",
      "Data columns (total 5 columns):\n",
      "Unnamed: 0    79 non-null int64\n",
      "Entry_date    79 non-null datetime64[ns]\n",
      "DeltaT        79 non-null float64\n",
      "Center        79 non-null object\n",
      "Size          79 non-null int64\n",
      "dtypes: datetime64[ns](1), float64(1), int64(2), object(1)\n",
      "memory usage: 3.2+ KB\n"
     ]
    }
   ],
   "source": [
    "data['Entry_date']= pd.to_datetime(data['Entry_date']) \n",
    "data.info()"
   ]
  },
  {
   "cell_type": "code",
   "execution_count": 29,
   "metadata": {},
   "outputs": [
    {
     "name": "stderr",
     "output_type": "stream",
     "text": [
      "C:\\Users\\leopa\\Anaconda3\\lib\\site-packages\\ipykernel_launcher.py:4: SettingWithCopyWarning: \n",
      "A value is trying to be set on a copy of a slice from a DataFrame\n",
      "\n",
      "See the caveats in the documentation: http://pandas.pydata.org/pandas-docs/stable/indexing.html#indexing-view-versus-copy\n",
      "  after removing the cwd from sys.path.\n"
     ]
    },
    {
     "data": {
      "text/plain": [
       "0     5\n",
       "1     1\n",
       "2     2\n",
       "3     2\n",
       "4     3\n",
       "5     3\n",
       "6     4\n",
       "7     3\n",
       "8     6\n",
       "9     0\n",
       "10    1\n",
       "11    1\n",
       "12    0\n",
       "13    0\n",
       "14    0\n",
       "15    0\n",
       "16    1\n",
       "17    1\n",
       "18    1\n",
       "19    1\n",
       "20    2\n",
       "21    2\n",
       "22    2\n",
       "23    3\n",
       "24    3\n",
       "25    3\n",
       "26    4\n",
       "27    4\n",
       "28    5\n",
       "29    6\n",
       "     ..\n",
       "49    0\n",
       "50    0\n",
       "51    1\n",
       "52    1\n",
       "53    2\n",
       "54    2\n",
       "55    3\n",
       "56    3\n",
       "57    3\n",
       "58    4\n",
       "59    5\n",
       "60    6\n",
       "61    6\n",
       "62    6\n",
       "63    0\n",
       "64    0\n",
       "65    0\n",
       "66    0\n",
       "67    1\n",
       "68    1\n",
       "69    1\n",
       "70    2\n",
       "71    2\n",
       "72    2\n",
       "73    2\n",
       "74    3\n",
       "75    3\n",
       "76    3\n",
       "77    3\n",
       "78    5\n",
       "Name: Week_day, Length: 79, dtype: object"
      ]
     },
     "execution_count": 29,
     "metadata": {},
     "output_type": "execute_result"
    }
   ],
   "source": [
    "data[\"Week_day\"]=\"\"\n",
    "\n",
    "for index, day in data['Entry_date'].iteritems():\n",
    "    data[\"Week_day\"][index]=day.weekday()\n",
    "    \n",
    "data[\"Week_day\"]"
   ]
  },
  {
   "cell_type": "code",
   "execution_count": null,
   "metadata": {},
   "outputs": [],
   "source": []
  }
 ],
 "metadata": {
  "kernelspec": {
   "display_name": "Python 3",
   "language": "python",
   "name": "python3"
  },
  "language_info": {
   "codemirror_mode": {
    "name": "ipython",
    "version": 3
   },
   "file_extension": ".py",
   "mimetype": "text/x-python",
   "name": "python",
   "nbconvert_exporter": "python",
   "pygments_lexer": "ipython3",
   "version": "3.7.3"
  }
 },
 "nbformat": 4,
 "nbformat_minor": 2
}
