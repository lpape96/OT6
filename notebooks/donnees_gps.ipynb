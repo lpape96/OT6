{
 "cells": [
  {
   "cell_type": "markdown",
   "metadata": {},
   "source": [
    "## I. Load dependencies and data"
   ]
  },
  {
   "cell_type": "code",
   "execution_count": 1,
   "metadata": {},
   "outputs": [
    {
     "name": "stdout",
     "output_type": "stream",
     "text": [
      "Requirement already up-to-date: googlemaps in c:\\users\\mika-\\.conda\\envs\\machinelearning\\lib\\site-packages (3.1.4)\n",
      "Requirement already satisfied, skipping upgrade: requests<3.0,>=2.20.0 in c:\\users\\mika-\\.conda\\envs\\machinelearning\\lib\\site-packages (from googlemaps) (2.22.0)\n",
      "Requirement already satisfied, skipping upgrade: idna<2.9,>=2.5 in c:\\users\\mika-\\.conda\\envs\\machinelearning\\lib\\site-packages (from requests<3.0,>=2.20.0->googlemaps) (2.8)\n",
      "Requirement already satisfied, skipping upgrade: chardet<3.1.0,>=3.0.2 in c:\\users\\mika-\\.conda\\envs\\machinelearning\\lib\\site-packages (from requests<3.0,>=2.20.0->googlemaps) (3.0.4)\n",
      "Requirement already satisfied, skipping upgrade: urllib3!=1.25.0,!=1.25.1,<1.26,>=1.21.1 in c:\\users\\mika-\\.conda\\envs\\machinelearning\\lib\\site-packages (from requests<3.0,>=2.20.0->googlemaps) (1.25.7)\n",
      "Requirement already satisfied, skipping upgrade: certifi>=2017.4.17 in c:\\users\\mika-\\.conda\\envs\\machinelearning\\lib\\site-packages (from requests<3.0,>=2.20.0->googlemaps) (2019.9.11)\n"
     ]
    }
   ],
   "source": [
    "!pip install -U googlemaps"
   ]
  },
  {
   "cell_type": "code",
   "execution_count": 1,
   "metadata": {},
   "outputs": [],
   "source": [
    "import pandas as pd\n",
    "import seaborn as sns\n",
    "import matplotlib.pyplot as plt\n",
    "%matplotlib inline\n",
    "import numpy as np\n",
    "import googlemaps\n",
    "from datetime import datetime, timedelta\n",
    "import math"
   ]
  },
  {
   "cell_type": "code",
   "execution_count": 15,
   "metadata": {},
   "outputs": [],
   "source": [
    "chunksize = 10 ** 6\n",
    "dataset = pd.read_csv('./privamov/privamov-gps', nrows=30000000, sep='\\t',names=['Id','Date','Long','Lat'])"
   ]
  },
  {
   "cell_type": "code",
   "execution_count": 7,
   "metadata": {},
   "outputs": [
    {
     "data": {
      "text/plain": [
       "28602.20285509703"
      ]
     },
     "execution_count": 7,
     "metadata": {},
     "output_type": "execute_result"
    }
   ],
   "source": [
    "position1 = dataset.iloc[10000]\n",
    "position2 = dataset.iloc[0]\n",
    "dist = distance(position1.Lat, position1.Long, position2.Lat, position2.Long)\n",
    "dist*1000"
   ]
  },
  {
   "cell_type": "code",
   "execution_count": 16,
   "metadata": {},
   "outputs": [],
   "source": [
    "for id_user in dataset.Id.unique():\n",
    "    dataset_user = pd.DataFrame(columns=['Id','Data','Long','Lat'])\n",
    "    dataset_user.set_index('Id')\n",
    "    dataset_user = dataset[dataset['Id'] == id_user]\n",
    "    path = \"./split_dataset/user_\" + str(id_user)\n",
    "    dataset_user.to_csv(path)"
   ]
  },
  {
   "cell_type": "markdown",
   "metadata": {},
   "source": [
    "## II. Create POI functions"
   ]
  },
  {
   "cell_type": "markdown",
   "metadata": {},
   "source": [
    "### 2.1 : Get distance between two points"
   ]
  },
  {
   "cell_type": "code",
   "execution_count": 36,
   "metadata": {},
   "outputs": [],
   "source": [
    "def distance(lat1,long1,lat2,long2):\n",
    "    earthRadius = 6371000.0\n",
    "    \n",
    "    dLat = math.radians(lat2-lat1)\n",
    "    dLong = math.radians(long2-long1)\n",
    "    \n",
    "    a = math.sin(dLat/2)*math.sin(dLat/2) + math.cos(math.radians(lat1)) * math.cos(math.radians(lat2)) * math.sin(dLong/2) * math.sin(dLong/2)\n",
    "    \n",
    "    c = 2 * math.atan2(math.sqrt(a), math.sqrt(1-a))\n",
    "    dist = earthRadius * c\n",
    "    \n",
    "    return dist"
   ]
  },
  {
   "cell_type": "markdown",
   "metadata": {},
   "source": [
    "### 2.2 : Get center of points distribution"
   ]
  },
  {
   "cell_type": "code",
   "execution_count": 37,
   "metadata": {},
   "outputs": [],
   "source": [
    "def getCenter(latArray, longArray):\n",
    "    averageLat = 0.0\n",
    "    averageLong = 0.0\n",
    "    \n",
    "    for d in latArray:\n",
    "        averageLat += d\n",
    "    for d in longArray:\n",
    "        averageLong += d\n",
    "        \n",
    "    averageLat /= len(latArray)\n",
    "    averageLong /= len(longArray)\n",
    "    \n",
    "    return averageLat, averageLong"
   ]
  },
  {
   "cell_type": "markdown",
   "metadata": {},
   "source": [
    "### 2.3 : Get POI"
   ]
  },
  {
   "cell_type": "code",
   "execution_count": 23,
   "metadata": {},
   "outputs": [],
   "source": [
    "diameter = 100 ##Diameter of POI (in meter)\n",
    "duration = 60*60 ##Duration spent in zone to be considered as POI (in second)\n",
    "d2r = math.pi / 180\n",
    "milli2minute = 1000 * 60"
   ]
  },
  {
   "cell_type": "code",
   "execution_count": 24,
   "metadata": {},
   "outputs": [
    {
     "data": {
      "text/plain": [
       "'2014-10-04 08:49:34.161'"
      ]
     },
     "execution_count": 24,
     "metadata": {},
     "output_type": "execute_result"
    }
   ],
   "source": [
    "date1 = dataset_user1.iloc[0].Date\n",
    "date1\n",
    "date2 = dataset_user1.iloc[1000].Date\n",
    "date2"
   ]
  },
  {
   "cell_type": "code",
   "execution_count": 25,
   "metadata": {},
   "outputs": [
    {
     "data": {
      "text/plain": [
       "532.0"
      ]
     },
     "execution_count": 25,
     "metadata": {},
     "output_type": "execute_result"
    }
   ],
   "source": [
    "date_obj = datetime.strptime(date1.split('.')[0], '%Y-%m-%d %H:%M:%S')\n",
    "date_obj2 = datetime.strptime(date2.split('.')[0], '%Y-%m-%d %H:%M:%S')\n",
    "delta = date_obj2 - date_obj\n",
    "delta.total_seconds()"
   ]
  },
  {
   "cell_type": "code",
   "execution_count": 26,
   "metadata": {},
   "outputs": [],
   "source": [
    "def identifyPOI(df):\n",
    "    POI_df = pd.DataFrame(columns=['Entry_date','DeltaT','Center','Size'])\n",
    "    isEmpty = True\n",
    "    latArray = []\n",
    "    longArray = []\n",
    "    timeArray = []\n",
    "    for index, row in df.iterrows():\n",
    "        date = datetime.strptime(row.Date.split('.')[0], '%Y-%m-%d %H:%M:%S')\n",
    "        lat = row.Lat\n",
    "        long = row.Long\n",
    "        \n",
    "        ##First entry\n",
    "        if len(latArray) == 0 :\n",
    "            latArray.append(lat)\n",
    "            longArray.append(long)\n",
    "            timeArray.append(date)\n",
    "            isEmpty = False\n",
    "            continue\n",
    "        \n",
    "        ##If still in the same POI\n",
    "        if(distance(latArray[0], longArray[0], lat, long) < diameter):\n",
    "            latArray.append(lat)\n",
    "            longArray.append(long)\n",
    "            timeArray.append(date)\n",
    "        ##If new entry outside of actual POI\n",
    "        else:\n",
    "            dTime = timeArray[-1] - timeArray[0]\n",
    "            if (dTime.total_seconds() < duration):\n",
    "                \n",
    "                ##Check if new instance is ok\n",
    "                while (distance(latArray[0],longArray[0],lat,long) >= diameter):\n",
    "                    latArray.pop(0)\n",
    "                    longArray.pop(0)\n",
    "                    timeArray.pop(0)\n",
    "                    \n",
    "                    if(len(latArray) == 0):\n",
    "                        isEmpty = True\n",
    "                        break\n",
    "            ##Else valid POI\n",
    "            else :\n",
    "                center = getCenter(latArray,longArray)\n",
    "                deltaT = timeArray[-1] - timeArray[0]\n",
    "                deltaT = deltaT.total_seconds()\n",
    "                POI_df = POI_df.append({'Entry_date':timeArray[0],'DeltaT':deltaT,'Center':center,'Size':len(latArray)},ignore_index=True)\n",
    "    \n",
    "                \n",
    "                latArray.clear()\n",
    "                longArray.clear()\n",
    "                timeArray.clear()\n",
    "                \n",
    "            latArray.append(lat)\n",
    "            longArray.append(long)\n",
    "            timeArray.append(date)\n",
    "    \n",
    "    if isEmpty == False :\n",
    "        center = getCenter(latArray,longArray)\n",
    "        deltaT = timeArray[-1] - timeArray[0]\n",
    "        deltaT = deltaT.total_seconds()\n",
    "        POI_df = POI_df.append({'Entry_date':timeArray[0],'DeltaT':deltaT,'Center':center,'Size':len(latArray)},ignore_index=True)\n",
    "    \n",
    "    return POI_df"
   ]
  },
  {
   "cell_type": "code",
   "execution_count": 13,
   "metadata": {
    "jupyter": {
     "source_hidden": true
    }
   },
   "outputs": [],
   "source": [
    "def identifyPOItoCatch(df):\n",
    "    timeArray = df['Entry_date']\n",
    "    posArray = df['Center']\n",
    "    deltaTArray = df['DeltaT']\n",
    "    for i in range(0, len(posArray)):\n",
    "        for j in range(0,len(posArray)):\n",
    "            if (distance(posArray[i][0],posArray[i][1],posArray[j][0],posArray[j][1]) < diameter):\n",
    "                posArray.drop(labels=[j],inplace=True)\n",
    "                timeArray.drop(labels=[j],inplace=True)\n",
    "                deltaTArray.drop(labels=[j],inplace=True)\n",
    "        posArray.reset_index(drop=True)\n",
    "        timeArray.reset_index(drop=True)\n",
    "        deltaTArray.reset_index(drop=True)\n",
    "        \n",
    "    return pd.DataFrame({'Center':posArray,'Entry':timeArray,'deltaT':deltaTArray})   \n",
    "        "
   ]
  },
  {
   "cell_type": "markdown",
   "metadata": {
    "jupyter": {
     "source_hidden": true
    }
   },
   "source": [
    "## III. Find POI"
   ]
  },
  {
   "cell_type": "code",
   "execution_count": 33,
   "metadata": {},
   "outputs": [],
   "source": [
    "id_users = [1, 6, 2, 8, 27, 17, 28, 24, 38, 42, 11, 36, 50, 26, 14, 55, 52, 85, 7, 15]"
   ]
  },
  {
   "cell_type": "code",
   "execution_count": 40,
   "metadata": {},
   "outputs": [],
   "source": [
    "def CalculatePOI():\n",
    "    for id_user in id_users :\n",
    "        path_dataset = \"./split_dataset/user_\"+str(id_user)\n",
    "        dataset_user = pd.read_csv(path_dataset)\n",
    "        poi_dataset = identifyPOI(dataset_user)\n",
    "        path_poi = './poi/poi_user_' + str(id_user)+'.csv'\n",
    "        poi_dataset.to_csv(path_poi)\n",
    "        print(\"-------POI of user {}/20 Done-------\".format(id_user))"
   ]
  },
  {
   "cell_type": "code",
   "execution_count": 41,
   "metadata": {},
   "outputs": [
    {
     "name": "stdout",
     "output_type": "stream",
     "text": [
      "-------POI of user 1/20 Done-------\n",
      "-------POI of user 6/20 Done-------\n",
      "-------POI of user 2/20 Done-------\n",
      "-------POI of user 8/20 Done-------\n",
      "-------POI of user 27/20 Done-------\n",
      "-------POI of user 17/20 Done-------\n",
      "-------POI of user 28/20 Done-------\n",
      "-------POI of user 24/20 Done-------\n",
      "-------POI of user 38/20 Done-------\n",
      "-------POI of user 42/20 Done-------\n",
      "-------POI of user 11/20 Done-------\n",
      "-------POI of user 36/20 Done-------\n",
      "-------POI of user 50/20 Done-------\n",
      "-------POI of user 26/20 Done-------\n",
      "-------POI of user 14/20 Done-------\n",
      "-------POI of user 55/20 Done-------\n",
      "-------POI of user 52/20 Done-------\n",
      "-------POI of user 85/20 Done-------\n",
      "-------POI of user 7/20 Done-------\n",
      "-------POI of user 15/20 Done-------\n"
     ]
    }
   ],
   "source": [
    "CalculatePOI()"
   ]
  },
  {
   "cell_type": "code",
   "execution_count": 44,
   "metadata": {},
   "outputs": [
    {
     "data": {
      "text/html": [
       "<div>\n",
       "<style scoped>\n",
       "    .dataframe tbody tr th:only-of-type {\n",
       "        vertical-align: middle;\n",
       "    }\n",
       "\n",
       "    .dataframe tbody tr th {\n",
       "        vertical-align: top;\n",
       "    }\n",
       "\n",
       "    .dataframe thead th {\n",
       "        text-align: right;\n",
       "    }\n",
       "</style>\n",
       "<table border=\"1\" class=\"dataframe\">\n",
       "  <thead>\n",
       "    <tr style=\"text-align: right;\">\n",
       "      <th></th>\n",
       "      <th>Unnamed: 0</th>\n",
       "      <th>Entry_date</th>\n",
       "      <th>DeltaT</th>\n",
       "      <th>Center</th>\n",
       "      <th>Size</th>\n",
       "    </tr>\n",
       "  </thead>\n",
       "  <tbody>\n",
       "    <tr>\n",
       "      <td>0</td>\n",
       "      <td>0</td>\n",
       "      <td>2014-10-04 08:40:42</td>\n",
       "      <td>67378.0</td>\n",
       "      <td>(43.409325609736236, 3.687527731044699)</td>\n",
       "      <td>90787</td>\n",
       "    </tr>\n",
       "    <tr>\n",
       "      <td>1</td>\n",
       "      <td>1</td>\n",
       "      <td>2014-10-05 03:24:10</td>\n",
       "      <td>4565.0</td>\n",
       "      <td>(43.409323041349865, 3.687483238724403)</td>\n",
       "      <td>8174</td>\n",
       "    </tr>\n",
       "    <tr>\n",
       "      <td>2</td>\n",
       "      <td>2</td>\n",
       "      <td>2014-10-05 04:41:11</td>\n",
       "      <td>27140.0</td>\n",
       "      <td>(43.40931265973461, 3.687536559698956)</td>\n",
       "      <td>32502</td>\n",
       "    </tr>\n",
       "    <tr>\n",
       "      <td>3</td>\n",
       "      <td>3</td>\n",
       "      <td>2014-10-05 12:17:16</td>\n",
       "      <td>5275.0</td>\n",
       "      <td>(43.40930803888642, 3.687586438313091)</td>\n",
       "      <td>9532</td>\n",
       "    </tr>\n",
       "    <tr>\n",
       "      <td>4</td>\n",
       "      <td>4</td>\n",
       "      <td>2014-10-05 13:45:39</td>\n",
       "      <td>7153.0</td>\n",
       "      <td>(43.409383230200724, 3.687536262148475)</td>\n",
       "      <td>12896</td>\n",
       "    </tr>\n",
       "    <tr>\n",
       "      <td>...</td>\n",
       "      <td>...</td>\n",
       "      <td>...</td>\n",
       "      <td>...</td>\n",
       "      <td>...</td>\n",
       "      <td>...</td>\n",
       "    </tr>\n",
       "    <tr>\n",
       "      <td>329</td>\n",
       "      <td>329</td>\n",
       "      <td>2015-03-05 13:16:54</td>\n",
       "      <td>9833.0</td>\n",
       "      <td>(45.78731919770777, 4.8796830706781265)</td>\n",
       "      <td>349</td>\n",
       "    </tr>\n",
       "    <tr>\n",
       "      <td>330</td>\n",
       "      <td>330</td>\n",
       "      <td>2015-03-06 10:29:40</td>\n",
       "      <td>4134.0</td>\n",
       "      <td>(45.786410581083835, 4.879840131150681)</td>\n",
       "      <td>3482</td>\n",
       "    </tr>\n",
       "    <tr>\n",
       "      <td>331</td>\n",
       "      <td>331</td>\n",
       "      <td>2015-03-06 12:44:55</td>\n",
       "      <td>6369.0</td>\n",
       "      <td>(45.78607443639292, 4.87952442834138)</td>\n",
       "      <td>207</td>\n",
       "    </tr>\n",
       "    <tr>\n",
       "      <td>332</td>\n",
       "      <td>332</td>\n",
       "      <td>2015-03-09 18:48:35</td>\n",
       "      <td>49958.0</td>\n",
       "      <td>(45.77066921752736, 4.870224225352112)</td>\n",
       "      <td>213</td>\n",
       "    </tr>\n",
       "    <tr>\n",
       "      <td>333</td>\n",
       "      <td>333</td>\n",
       "      <td>2015-03-10 09:22:29</td>\n",
       "      <td>6445.0</td>\n",
       "      <td>(45.786738728198486, 4.879865687874985)</td>\n",
       "      <td>2389</td>\n",
       "    </tr>\n",
       "  </tbody>\n",
       "</table>\n",
       "<p>334 rows × 5 columns</p>\n",
       "</div>"
      ],
      "text/plain": [
       "     Unnamed: 0           Entry_date   DeltaT  \\\n",
       "0             0  2014-10-04 08:40:42  67378.0   \n",
       "1             1  2014-10-05 03:24:10   4565.0   \n",
       "2             2  2014-10-05 04:41:11  27140.0   \n",
       "3             3  2014-10-05 12:17:16   5275.0   \n",
       "4             4  2014-10-05 13:45:39   7153.0   \n",
       "..          ...                  ...      ...   \n",
       "329         329  2015-03-05 13:16:54   9833.0   \n",
       "330         330  2015-03-06 10:29:40   4134.0   \n",
       "331         331  2015-03-06 12:44:55   6369.0   \n",
       "332         332  2015-03-09 18:48:35  49958.0   \n",
       "333         333  2015-03-10 09:22:29   6445.0   \n",
       "\n",
       "                                      Center   Size  \n",
       "0    (43.409325609736236, 3.687527731044699)  90787  \n",
       "1    (43.409323041349865, 3.687483238724403)   8174  \n",
       "2     (43.40931265973461, 3.687536559698956)  32502  \n",
       "3     (43.40930803888642, 3.687586438313091)   9532  \n",
       "4    (43.409383230200724, 3.687536262148475)  12896  \n",
       "..                                       ...    ...  \n",
       "329  (45.78731919770777, 4.8796830706781265)    349  \n",
       "330  (45.786410581083835, 4.879840131150681)   3482  \n",
       "331    (45.78607443639292, 4.87952442834138)    207  \n",
       "332   (45.77066921752736, 4.870224225352112)    213  \n",
       "333  (45.786738728198486, 4.879865687874985)   2389  \n",
       "\n",
       "[334 rows x 5 columns]"
      ]
     },
     "execution_count": 44,
     "metadata": {},
     "output_type": "execute_result"
    }
   ],
   "source": [
    "poi_dataset_user1 = pd.read_csv('./poi/poi_user_1.csv')\n",
    "poi_dataset_user1"
   ]
  },
  {
   "cell_type": "code",
   "execution_count": 61,
   "metadata": {},
   "outputs": [
    {
     "name": "stdout",
     "output_type": "stream",
     "text": [
      "Collecting gmplot\n",
      "  Downloading https://files.pythonhosted.org/packages/e2/b1/e1429c31a40b3ef5840c16f78b506d03be9f27e517d3870a6fd0b356bd46/gmplot-1.2.0.tar.gz (115kB)\n",
      "Requirement already satisfied: requests in c:\\users\\mika-\\.conda\\envs\\machinelearning\\lib\\site-packages (from gmplot) (2.22.0)\n",
      "Requirement already satisfied: idna<2.9,>=2.5 in c:\\users\\mika-\\.conda\\envs\\machinelearning\\lib\\site-packages (from requests->gmplot) (2.8)\n",
      "Requirement already satisfied: certifi>=2017.4.17 in c:\\users\\mika-\\.conda\\envs\\machinelearning\\lib\\site-packages (from requests->gmplot) (2019.9.11)\n",
      "Requirement already satisfied: chardet<3.1.0,>=3.0.2 in c:\\users\\mika-\\.conda\\envs\\machinelearning\\lib\\site-packages (from requests->gmplot) (3.0.4)\n",
      "Requirement already satisfied: urllib3!=1.25.0,!=1.25.1,<1.26,>=1.21.1 in c:\\users\\mika-\\.conda\\envs\\machinelearning\\lib\\site-packages (from requests->gmplot) (1.25.7)\n",
      "Building wheels for collected packages: gmplot\n",
      "  Building wheel for gmplot (setup.py): started\n",
      "  Building wheel for gmplot (setup.py): finished with status 'done'\n",
      "  Created wheel for gmplot: filename=gmplot-1.2.0-cp37-none-any.whl size=143770 sha256=aa2953cd429870e1862b9663b0b22f2d7f2ba85b832d73b76222d119d31a4330\n",
      "  Stored in directory: C:\\Users\\mika-\\AppData\\Local\\pip\\Cache\\wheels\\81\\6a\\76\\4dd6a7cc310ba765894159ee84871e8cd55221d82ef14b81a1\n",
      "Successfully built gmplot\n",
      "Installing collected packages: gmplot\n",
      "Successfully installed gmplot-1.2.0\n"
     ]
    }
   ],
   "source": [
    "!pip install gmplot\n",
    "import gmplot"
   ]
  },
  {
   "cell_type": "code",
   "execution_count": 76,
   "metadata": {},
   "outputs": [
    {
     "name": "stdout",
     "output_type": "stream",
     "text": [
      "[45.18625979534138, 45.18632403260608, 45.20878258988913, 45.210383322767996, 45.18626605068259, 45.186332510412996, 45.21033164331581, 45.20959795112014, 45.18701150073452, 45.18625452387288, 45.186329306290126, 45.2101165826631, 45.17280680418069, 45.18627172650986, 45.193703504661144, 45.18627415937473, 45.18627933148721, 45.186907414265946, 45.18628677925106, 45.18631737183748] \n",
      " [5.747863183331987, 5.748030783049562, 5.790639511304857, 5.793061877971477, 5.748123241503041, 5.748003328370729, 5.793007072387639, 5.7931935619327515, 5.724207006673637, 5.748003732680278, 5.747928158580314, 5.794408000893676, 5.733010848459909, 5.748074627434933, 5.726340090739676, 5.747942006581453, 5.748107395317327, 5.733862722908047, 5.748077535413068, 5.748117651464727]\n"
     ]
    }
   ],
   "source": [
    "lat_list = []\n",
    "long_list = []\n",
    "for i in range(0,len(poi_user7)):\n",
    "    lat_list.append(poi_user7.Center[i][0])\n",
    "    long_list.append(poi_user7.Center[i][1])\n",
    "\n",
    "print(lat_list, '\\n', long_list)"
   ]
  },
  {
   "cell_type": "code",
   "execution_count": 80,
   "metadata": {},
   "outputs": [],
   "source": [
    "gmap = gmplot.GoogleMapPlotter(45.185, 5.73,13)\n",
    "\n",
    "gmap.heatmap(lat_list,long_list)\n",
    "\n",
    "\n",
    "\n",
    "gmap.draw('C:\\\\Users\\\\mika-\\\\Documents\\\\Travail\\\\INSA\\\\Cours\\\\5-IF\\\\Système_Algo_paralleles\\\\Privacy\\\\map_user7.html')"
   ]
  },
  {
   "cell_type": "code",
   "execution_count": 96,
   "metadata": {},
   "outputs": [],
   "source": [
    "lat_list2 = []\n",
    "long_list2 = []\n",
    "for i in range(1,len(POI_df)):\n",
    "    lat_list2.append(POI_df.Center[i][0])\n",
    "    long_list2.append(POI_df.Center[i][1])"
   ]
  },
  {
   "cell_type": "code",
   "execution_count": 97,
   "metadata": {},
   "outputs": [],
   "source": [
    "gmap2 = gmplot.GoogleMapPlotter(45.78, 4.87,13)\n",
    "\n",
    "gmap2.heatmap(lat_list2,long_list2)\n",
    "\n",
    "\n",
    "\n",
    "gmap2.draw('C:\\\\Users\\\\mika-\\\\Documents\\\\Travail\\\\INSA\\\\Cours\\\\5-IF\\\\Système_Algo_paralleles\\\\Privacy\\\\map_user1.html')"
   ]
  }
 ],
 "metadata": {
  "kernelspec": {
   "display_name": "Python 3",
   "language": "python",
   "name": "python3"
  },
  "language_info": {
   "codemirror_mode": {
    "name": "ipython",
    "version": 3
   },
   "file_extension": ".py",
   "mimetype": "text/x-python",
   "name": "python",
   "nbconvert_exporter": "python",
   "pygments_lexer": "ipython3",
   "version": "3.7.4"
  }
 },
 "nbformat": 4,
 "nbformat_minor": 4
}
